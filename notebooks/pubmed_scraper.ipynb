{
 "cells": [
  {
   "cell_type": "code",
   "execution_count": 1,
   "metadata": {},
   "outputs": [],
   "source": [
    "# !pip3 install Biopython\n",
    "# !pip3 install pymongo==3.11.2"
   ]
  },
  {
   "cell_type": "code",
   "execution_count": 3,
   "metadata": {},
   "outputs": [],
   "source": [
    "from Bio import Entrez\n",
    "from pymongo import MongoClient\n",
    "\n",
    "from io import StringIO\n",
    "from html.parser import HTMLParser\n",
    "from collections import defaultdict"
   ]
  },
  {
   "cell_type": "code",
   "execution_count": null,
   "metadata": {},
   "outputs": [],
   "source": [
    "import os\n",
    "import environ\n",
    "\n",
    "env = environ.Env()\n",
    "env.read_env(env.str('ENV_PATH', '.env'))"
   ]
  },
  {
   "cell_type": "code",
   "execution_count": null,
   "metadata": {},
   "outputs": [],
   "source": [
    "mongo_cli_username = os.environ.get('MONGO_CLI_USERNAME')\n",
    "mongo_cli_password = os.environ.get('MONGO_CLI_PASSWORD')"
   ]
  },
  {
   "cell_type": "code",
   "execution_count": 8,
   "metadata": {},
   "outputs": [],
   "source": [
    "client = MongoClient(\"mongodb+srv://{}:{}@cluster0.plop5.mongodb.net/myFirstDatabase?retryWrites=true&w=majority\".format(mongo_cli_username, mongo_cli_password))\n",
    "db = client['healdash']"
   ]
  },
  {
   "cell_type": "code",
   "execution_count": 9,
   "metadata": {},
   "outputs": [],
   "source": [
    "# input location\n",
    "input_location = 'data/input/diseases-english.txt'"
   ]
  },
  {
   "cell_type": "code",
   "execution_count": 10,
   "metadata": {},
   "outputs": [],
   "source": [
    "# keywords list\n",
    "keywords = []\n",
    "\n",
    "with open(input_location) as my_file:\n",
    "    for line in my_file:\n",
    "        keywords.append(line.replace(\"\\n\", \"\"))"
   ]
  },
  {
   "cell_type": "code",
   "execution_count": 11,
   "metadata": {},
   "outputs": [],
   "source": [
    "class MLStripper(HTMLParser):\n",
    "    def __init__(self):\n",
    "        super().__init__()\n",
    "        self.reset()\n",
    "        self.strict = False\n",
    "        self.convert_charrefs= True\n",
    "        self.text = StringIO()\n",
    "    def handle_data(self, d):\n",
    "        self.text.write(d)\n",
    "    def get_data(self):\n",
    "        return self.text.getvalue()\n",
    "\n",
    "def strip_tags(html):\n",
    "    s = MLStripper()\n",
    "    s.feed(html)\n",
    "    return s.get_data()"
   ]
  },
  {
   "cell_type": "code",
   "execution_count": 12,
   "metadata": {},
   "outputs": [],
   "source": [
    "class PubMed:\n",
    "    \n",
    "    # for testing purposes\n",
    "    \"\"\"for i, paper in enumerate(papers['PubmedArticle']):\n",
    "        print(paper['MedlineCitation']['Article'].keys())\n",
    "\n",
    "        for j in paper['MedlineCitation']['Article']['Abstract']['AbstractText']:\n",
    "            print(j)\"\"\"\n",
    "    \n",
    "    def __init__(self, email: str, extension=\"xml\") -> None:\n",
    "        self.email = email\n",
    "        self.extension = extension\n",
    "        self.keyword_dict = defaultdict(list)\n",
    "        \n",
    "    \n",
    "    def search(self, query: str):\n",
    "        Entrez.email = self.email\n",
    "        handle = Entrez.esearch(db='pubmed', \n",
    "                                sort='relevance', \n",
    "                                retmax='20',\n",
    "                                retmode=self.extension, \n",
    "                                term=query)\n",
    "        results = Entrez.read(handle)\n",
    "        return results\n",
    "\n",
    "    def fetch_details(self, id_list: list):\n",
    "        ids = ','.join(id_list)\n",
    "        Entrez.email = self.email\n",
    "        handle = Entrez.efetch(db='pubmed',\n",
    "                               retmode=self.extension,\n",
    "                               id=ids)\n",
    "        results = Entrez.read(handle)\n",
    "        return results\n",
    "    \n",
    "    def get_results(self, keywords: list) -> None:\n",
    "        for keyword in keywords:\n",
    "            try:\n",
    "                results = self.search(keyword)\n",
    "                id_list = results['IdList']\n",
    "                papers = self.fetch_details(id_list)\n",
    "                \n",
    "                for paper in papers['PubmedArticle']:\n",
    "\n",
    "                    abstract_texts = []\n",
    "\n",
    "                    for abstract_text in paper['MedlineCitation']['Article']['Abstract']['AbstractText']:\n",
    "                        abstract_texts.append(strip_tags(abstract_text))\n",
    "\n",
    "                    self.keyword_dict[keyword].append({\n",
    "                        \"loc_id\": paper['MedlineCitation']['Article']['ELocationID'], \n",
    "                        \"title\": strip_tags(paper['MedlineCitation']['Article']['ArticleTitle']), \n",
    "                        \"abstract_texts\": abstract_texts\n",
    "                    })\n",
    "\n",
    "                # add data to mongodb\n",
    "                db.articles.update_many({\"keyword\": keyword}, {\"$set\": {\"articles\": self.keyword_dict[keyword]}}, upsert=True)\n",
    "            except:\n",
    "                print(\"{} - No complete information\".format(keyword))"
   ]
  },
  {
   "cell_type": "code",
   "execution_count": 13,
   "metadata": {},
   "outputs": [],
   "source": [
    "pubmed = PubMed(\"drgoktugasci@gmail.com\")"
   ]
  },
  {
   "cell_type": "code",
   "execution_count": 14,
   "metadata": {},
   "outputs": [],
   "source": [
    "# keywords[:2]"
   ]
  },
  {
   "cell_type": "code",
   "execution_count": null,
   "metadata": {},
   "outputs": [
    {
     "name": "stdout",
     "output_type": "stream",
     "text": [
      "aphthous cancer - No complete information\n",
      "behçet syndrome - No complete information\n",
      "herpes - No complete information\n",
      "mumps - No complete information\n",
      "sialadenitis - No complete information\n",
      "esophageal web - No complete information\n",
      "zenker diverticulum - No complete information\n",
      "mallory-weiss syndrome - No complete information\n",
      "esophagel varices - No complete information\n",
      "gastroesophageal reflux disesase  - No complete information\n",
      "pyloric stenosis - No complete information\n",
      "acute gastritis - No complete information\n",
      "peptic ulcer disease - No complete information\n",
      "gastric carcinoma - No complete information\n",
      "duodenal atresia - No complete information\n",
      "small bowel infarction - No complete information\n",
      "tropical sprue - No complete information\n",
      "whipple disease - No complete information\n",
      "abetalipoproteinemia - No complete information\n",
      "colonic diverticula - No complete information\n",
      "angiodysplasia - No complete information\n",
      "juvenile polyp - No complete information\n",
      "gardner syndrome - No complete information\n",
      "turcot syndrome - No complete information\n",
      "hereditary nonpolyposis colorectal carcinoma - No complete information\n",
      "colovesicular fistula - No complete information\n",
      "boerhaave syndrome - No complete information\n"
     ]
    }
   ],
   "source": [
    "pubmed.get_results(keywords)"
   ]
  },
  {
   "cell_type": "code",
   "execution_count": null,
   "metadata": {},
   "outputs": [],
   "source": []
  }
 ],
 "metadata": {
  "kernelspec": {
   "display_name": "Python 3",
   "language": "python",
   "name": "python3"
  },
  "language_info": {
   "codemirror_mode": {
    "name": "ipython",
    "version": 3
   },
   "file_extension": ".py",
   "mimetype": "text/x-python",
   "name": "python",
   "nbconvert_exporter": "python",
   "pygments_lexer": "ipython3",
   "version": "3.8.5"
  }
 },
 "nbformat": 4,
 "nbformat_minor": 4
}

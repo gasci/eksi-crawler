{
 "cells": [
  {
   "cell_type": "code",
   "execution_count": 4,
   "metadata": {},
   "outputs": [],
   "source": [
    "import time\n",
    "import json\n",
    "from collections import defaultdict\n",
    "\n",
    "from selenium import webdriver\n",
    "from bs4 import BeautifulSoup\n",
    "from pymongo import MongoClient"
   ]
  },
  {
   "cell_type": "code",
   "execution_count": null,
   "metadata": {},
   "outputs": [],
   "source": [
    "import os\n",
    "import environ\n",
    "\n",
    "env = environ.Env()\n",
    "env.read_env(env.str('ENV_PATH', '.env'))"
   ]
  },
  {
   "cell_type": "code",
   "execution_count": null,
   "metadata": {},
   "outputs": [],
   "source": [
    "mongo_cli_username = os.environ.get('MONGO_CLI_USERNAME')\n",
    "mongo_cli_password = os.environ.get('MONGO_CLI_PASSWORD')"
   ]
  },
  {
   "cell_type": "code",
   "execution_count": 5,
   "metadata": {},
   "outputs": [],
   "source": [
    "client = MongoClient(\"mongodb+srv://{}:{}@cluster0.plop5.mongodb.net/myFirstDatabase?retryWrites=true&w=majority\".format(mongo_cli_username, mongo_cli_password))\n",
    "db = client['healdash']"
   ]
  },
  {
   "cell_type": "code",
   "execution_count": 26,
   "metadata": {},
   "outputs": [],
   "source": [
    "keyword_list = []\n",
    "for x in db.mesh_synonyms.find({},{ \"synonyms.word\": 1 }):\n",
    "    for synonym in x['synonyms']:\n",
    "        keyword_list.append(synonym['word'])"
   ]
  },
  {
   "cell_type": "code",
   "execution_count": 27,
   "metadata": {},
   "outputs": [
    {
     "data": {
      "text/plain": [
       "876"
      ]
     },
     "execution_count": 27,
     "metadata": {},
     "output_type": "execute_result"
    }
   ],
   "source": [
    "len(keyword_list)"
   ]
  },
  {
   "cell_type": "code",
   "execution_count": 7,
   "metadata": {},
   "outputs": [],
   "source": [
    "# limit links after keyword selection\n",
    "# limit posts in a link\n",
    "limit_links, limit_posts = 5, 10"
   ]
  },
  {
   "cell_type": "code",
   "execution_count": 8,
   "metadata": {},
   "outputs": [],
   "source": [
    "class PLM:\n",
    "    def __init__(self, username, password, limit_links = 50, limit_posts = 50):\n",
    "        self.login_url = \"https://www.patientslikeme.com/users/sign_in\"\n",
    "        self.forum_url = \"https://www.patientslikeme.com/forum/plm/topics\"\n",
    "        self.stem_url = \"https://www.patientslikeme.com/\"\n",
    "        self.username = username\n",
    "        self.password = password\n",
    "        self.keywords = []\n",
    "        self.recent_keyword = \"\"\n",
    "        self.relevancy_limit_links = limit_links\n",
    "        self.relevancy_limit_posts = limit_posts\n",
    "        self.keyword_dict = defaultdict(list)\n",
    "        self.link_list = []\n",
    "        self.current_url = \"\"\n",
    "        \n",
    "        # init the browser\n",
    "        options = webdriver.ChromeOptions()\n",
    "        options.add_argument('--ignore-certificate-errors')\n",
    "        options.add_argument('--incognito')\n",
    "        options.add_argument('--headless')\n",
    "\n",
    "        driver = webdriver.Chrome() # initialize the driver\n",
    "        driver.get(self.login_url) # go to the login url\n",
    "        self.driver = driver\n",
    "        self.login()\n",
    "        \n",
    "    def login(self):\n",
    "        time.sleep(1) # small delay before getting the page source\n",
    "        username = self.driver.find_element_by_id(\"user_email_or_login\")\n",
    "        password = self.driver.find_element_by_id(\"user_password\")\n",
    "        sign_in_button = self.driver.find_element_by_class_name(\"button-primary-action\")\n",
    "        username.send_keys(self.username)\n",
    "        password.send_keys(self.password)  # enter the password\n",
    "        sign_in_button.click()\n",
    "        \n",
    "    def keyword_exists(self) -> bool:\n",
    "        all_links = self.page_source.find_all('a', {\"class\": \"header-3\"}) # get all links\n",
    "        if len(all_links):\n",
    "            return True\n",
    "        else:\n",
    "            return False\n",
    "        \n",
    "    def search_on_forum(self, keyword):\n",
    "        self.recent_keyword = keyword\n",
    "        time.sleep(0.5) # small delay before getting the page source\n",
    "        self.driver.get(self.forum_url) # go to the forum url\n",
    "        search_input = self.driver.find_elements_by_tag_name(\"input\")[2]\n",
    "        search_input.send_keys(keyword)\n",
    "        search_input.submit()\n",
    "        \n",
    "    def get_link_list(self):\n",
    "        all_links = self.page_source.find_all('a', {\"class\": \"header-3\"}) # get all links\n",
    "        \n",
    "        for link in all_links[:self.relevancy_limit_links]:\n",
    "            self.link_list.append(self.stem_url + link[\"href\"])\n",
    "            \n",
    "        if self.max_pages_lists > 1 and len(all_links) < self.relevancy_limit_links:\n",
    "            for i in range(2, self.max_pages_lists + 1):\n",
    "                link = \"https://www.patientslikeme.com/forum/plm/topics/search?page={}&search%5Btext%5D={}\".format(i ,self.recent_keyword)\n",
    "                self.driver.get(link) \n",
    "                self.compile_page_source()\n",
    "                all_links = self.page_source.find_all('a', {\"class\": \"header-3\"}) # get all links\n",
    "                for link in all_links:\n",
    "                    self.link_list.append(self.stem_url + link[\"href\"])\n",
    "        \n",
    "    def compile_page_source(self) -> object:\n",
    "        soup = BeautifulSoup(self.driver.page_source.encode('utf-8','ignore')) # compile it with bs4\n",
    "        try:\n",
    "            self.max_pages_lists = int(soup.find('div', {\"class\": \"pagination\"})('a')[-2].text)\n",
    "        except:\n",
    "            self.max_pages_lists = 1\n",
    "        self.page_source = soup\n",
    "        return self\n",
    "    \n",
    "    def clean_entry(self, entry):\n",
    "        return (\n",
    "            entry\n",
    "            .replace(\"\\n\", \"\") # remove new lines\n",
    "            .replace(\"\\'\", \"'\") # fix apostrophe\n",
    "            .replace(\"\\xa0\", \"\")\n",
    "            .strip() # remove spaces\n",
    "        )\n",
    "    \n",
    "    def scrape_link_entries(self, link):\n",
    "        self.driver.get(link)\n",
    "        self.current_url = self.driver.current_url\n",
    "        self.page_source = BeautifulSoup(self.driver.page_source.encode('utf-8','ignore')) #update page source\n",
    "        \n",
    "        try:\n",
    "            self.max_pages_posts = int(self.page_source.find('div', {\"class\": \"pagination\"})('a')[-2].text)\n",
    "        except:\n",
    "            self.max_pages_posts = 1\n",
    "            \n",
    "        all_entries = self.page_source.find_all('div', {\"class\": \"js-no-observer\"})\n",
    "        all_usernames = self.page_source.find_all('a', {\"class\": \"username\"})\n",
    "\n",
    "        for entry, username in zip(all_entries[:self.relevancy_limit_posts], all_usernames[:self.relevancy_limit_posts]):\n",
    "            self.keyword_dict[self.recent_keyword].append({\n",
    "                \"username\": username.text, \n",
    "                \"entry\": self.clean_entry(entry.text)\n",
    "            })\n",
    "            \n",
    "        if self.max_pages_posts > 1 and len(all_entries) < self.relevancy_limit_posts:\n",
    "            for i in range(2, self.max_pages_posts + 1):\n",
    "                link = self.current_url + \"&page={}\".format(i)\n",
    "                self.driver.get(link) \n",
    "                self.compile_page_source()\n",
    "                   \n",
    "                all_entries = self.page_source.find_all('div', {\"class\": \"js-no-observer\"})\n",
    "                all_usernames = self.page_source.find_all('a', {\"class\": \"username\"})\n",
    "\n",
    "                for entry, username in zip(all_entries, all_usernames):\n",
    "                    self.keyword_dict[self.recent_keyword].append({\n",
    "                        \"username\": username.text, \n",
    "                        \"entry\": self.clean_entry(entry.text)\n",
    "                    })\n",
    "        \n",
    "    def scrape_keywords(self, keywords):\n",
    "        self.keywords = keywords\n",
    "        \n",
    "        for keyword in keywords:\n",
    "            self.search_on_forum(keyword)\n",
    "            self.compile_page_source()\n",
    "            self.get_link_list()\n",
    "\n",
    "            for link in self.link_list:\n",
    "                self.scrape_link_entries(link)\n",
    "                \n",
    "            # add data to mongodb\n",
    "            db.plm_entries.update_many({\"keyword\": keyword}, {\"$set\": {\"objects\": self.keyword_dict[keyword]}}, upsert=True)"
   ]
  },
  {
   "cell_type": "code",
   "execution_count": 9,
   "metadata": {},
   "outputs": [],
   "source": [
    "plm = PLM(\"drgoktugasci@gmail.com\", mongo_cli_password, limit_links, limit_posts)"
   ]
  },
  {
   "cell_type": "code",
   "execution_count": 10,
   "metadata": {},
   "outputs": [
    {
     "ename": "IndexError",
     "evalue": "list index out of range",
     "output_type": "error",
     "traceback": [
      "\u001b[0;31m---------------------------------------------------------------------------\u001b[0m",
      "\u001b[0;31mIndexError\u001b[0m                                Traceback (most recent call last)",
      "\u001b[0;32m<ipython-input-10-e32d45c41ad7>\u001b[0m in \u001b[0;36m<module>\u001b[0;34m\u001b[0m\n\u001b[0;32m----> 1\u001b[0;31m \u001b[0mplm\u001b[0m\u001b[0;34m.\u001b[0m\u001b[0mscrape_keywords\u001b[0m\u001b[0;34m(\u001b[0m\u001b[0mkeywords\u001b[0m\u001b[0;34m)\u001b[0m\u001b[0;34m\u001b[0m\u001b[0;34m\u001b[0m\u001b[0m\n\u001b[0m",
      "\u001b[0;32m<ipython-input-8-614462e53877>\u001b[0m in \u001b[0;36mscrape_keywords\u001b[0;34m(self, keywords)\u001b[0m\n\u001b[1;32m    120\u001b[0m \u001b[0;34m\u001b[0m\u001b[0m\n\u001b[1;32m    121\u001b[0m         \u001b[0;32mfor\u001b[0m \u001b[0mkeyword\u001b[0m \u001b[0;32min\u001b[0m \u001b[0mkeywords\u001b[0m\u001b[0;34m:\u001b[0m\u001b[0;34m\u001b[0m\u001b[0;34m\u001b[0m\u001b[0m\n\u001b[0;32m--> 122\u001b[0;31m             \u001b[0mself\u001b[0m\u001b[0;34m.\u001b[0m\u001b[0msearch_on_forum\u001b[0m\u001b[0;34m(\u001b[0m\u001b[0mkeyword\u001b[0m\u001b[0;34m)\u001b[0m\u001b[0;34m\u001b[0m\u001b[0;34m\u001b[0m\u001b[0m\n\u001b[0m\u001b[1;32m    123\u001b[0m             \u001b[0mself\u001b[0m\u001b[0;34m.\u001b[0m\u001b[0mcompile_page_source\u001b[0m\u001b[0;34m(\u001b[0m\u001b[0;34m)\u001b[0m\u001b[0;34m\u001b[0m\u001b[0;34m\u001b[0m\u001b[0m\n\u001b[1;32m    124\u001b[0m             \u001b[0mself\u001b[0m\u001b[0;34m.\u001b[0m\u001b[0mget_link_list\u001b[0m\u001b[0;34m(\u001b[0m\u001b[0;34m)\u001b[0m\u001b[0;34m\u001b[0m\u001b[0;34m\u001b[0m\u001b[0m\n",
      "\u001b[0;32m<ipython-input-8-614462e53877>\u001b[0m in \u001b[0;36msearch_on_forum\u001b[0;34m(self, keyword)\u001b[0m\n\u001b[1;32m     45\u001b[0m         \u001b[0mtime\u001b[0m\u001b[0;34m.\u001b[0m\u001b[0msleep\u001b[0m\u001b[0;34m(\u001b[0m\u001b[0;36m0.5\u001b[0m\u001b[0;34m)\u001b[0m \u001b[0;31m# small delay before getting the page source\u001b[0m\u001b[0;34m\u001b[0m\u001b[0;34m\u001b[0m\u001b[0m\n\u001b[1;32m     46\u001b[0m         \u001b[0mself\u001b[0m\u001b[0;34m.\u001b[0m\u001b[0mdriver\u001b[0m\u001b[0;34m.\u001b[0m\u001b[0mget\u001b[0m\u001b[0;34m(\u001b[0m\u001b[0mself\u001b[0m\u001b[0;34m.\u001b[0m\u001b[0mforum_url\u001b[0m\u001b[0;34m)\u001b[0m \u001b[0;31m# go to the forum url\u001b[0m\u001b[0;34m\u001b[0m\u001b[0;34m\u001b[0m\u001b[0m\n\u001b[0;32m---> 47\u001b[0;31m         \u001b[0msearch_input\u001b[0m \u001b[0;34m=\u001b[0m \u001b[0mself\u001b[0m\u001b[0;34m.\u001b[0m\u001b[0mdriver\u001b[0m\u001b[0;34m.\u001b[0m\u001b[0mfind_elements_by_tag_name\u001b[0m\u001b[0;34m(\u001b[0m\u001b[0;34m\"input\"\u001b[0m\u001b[0;34m)\u001b[0m\u001b[0;34m[\u001b[0m\u001b[0;36m2\u001b[0m\u001b[0;34m]\u001b[0m\u001b[0;34m\u001b[0m\u001b[0;34m\u001b[0m\u001b[0m\n\u001b[0m\u001b[1;32m     48\u001b[0m         \u001b[0msearch_input\u001b[0m\u001b[0;34m.\u001b[0m\u001b[0msend_keys\u001b[0m\u001b[0;34m(\u001b[0m\u001b[0mkeyword\u001b[0m\u001b[0;34m)\u001b[0m\u001b[0;34m\u001b[0m\u001b[0;34m\u001b[0m\u001b[0m\n\u001b[1;32m     49\u001b[0m         \u001b[0msearch_input\u001b[0m\u001b[0;34m.\u001b[0m\u001b[0msubmit\u001b[0m\u001b[0;34m(\u001b[0m\u001b[0;34m)\u001b[0m\u001b[0;34m\u001b[0m\u001b[0;34m\u001b[0m\u001b[0m\n",
      "\u001b[0;31mIndexError\u001b[0m: list index out of range"
     ]
    }
   ],
   "source": [
    "plm.scrape_keywords(keywords)"
   ]
  },
  {
   "cell_type": "code",
   "execution_count": 9,
   "metadata": {},
   "outputs": [
    {
     "data": {
      "text/plain": [
       "defaultdict(list,\n",
       "            {'gastritis': [{'username': 'Rachel96', 'entry': ''},\n",
       "              {'username': 'JeanineBrennan',\n",
       "               'entry': 'Hi @Racchel96,Here is our condition page for Gastritis:www.patientslikeme.com/.../overviewYou can also see treatments on this page and symptoms.I hope this helps! Have you been diagnosed with Gastritis?Warm Regards,Jeanine, from the Community Team'},\n",
       "              {'username': 'hello1965',\n",
       "               'entry': 'Ten years ago I had to take the antibiotic Clarithromycin and it had a severe reaction leaving be with gastritis and ulcers, I live with the consequences of this today. The reason I am writing this is that I have to have an operation in the coming weeks and have been told that I will have to have an antibiotic drip, which is fine, but I will have to take antibiotics afterwards for some considerable time. My question is this? What foods or supplements would be best to take the antibiotics with? I assume there is no such thing as a localised patch or anything.'},\n",
       "              {'username': 'Saeedhp',\n",
       "               'entry': 'I take gastritis one last year and i have heart pain from gastritis . How do i get healthy?'},\n",
       "              {'username': 'DanAlroy',\n",
       "               'entry': 'Hello @Saeedhp,I just sent you some useful information via a private message!'},\n",
       "              {'username': 'mozzy1960',\n",
       "               'entry': 'I am a 55 year old lady and in menopause,I hear that alot of ladies of a similar age suffer gastritis in menopause,I would like to know if there is anyone else who suffers this as well and if so do you have any tips on diet etc'},\n",
       "              {'username': 'SteveTop',\n",
       "               'entry': \"I'm looking for advice on controlling the build up of thick mucous in the back of my throat, too far back to be reached with a suction wand.I'm unable to clear the mucous by coughing because of my limited lung capacity. The mucous partially blocks my airway, wakes from sleep every 15 minutes or so, and then I spend another 15 minutes working to clear enough of it to go back to sleep. Then the cycle starts all over.I'm taking glyopyrolate for saliva inhibition, but it doesn't seem to be very effective. I recently started taking drops of Atropine Sulphate orally before bed. The verdict is still out on this treatment.I am 100% tube fed because of my swallowing issues, which may exacerbate the problem because I can't wash down the mucous with liquids through my mouth.I think dehydration may have been a contributing factor to making the mucous thick and adherent, so I'm increasing water intake.Any other suggestions for caging the mucous monster?\"},\n",
       "              {'username': 'KaraSmith',\n",
       "               'entry': \"I'm sorry to hear about your mucous buildup @SteveTop! I hope you find some relief soon.If you don't immediately hear from others, I'd also recommend that you copy andrepost this in theALS Forum(click the blue highlighted link to take you straight there)to share experiences and see if fellow members with ALS find this familiar and have any suggestions for youBest wishes,Kara\"},\n",
       "              {'username': 'Slippers',\n",
       "               'entry': '@SteveTop... Marshmallow root tea will clear the body ofmucus. I\\'m just notsure if it works to clear it out of the throat or if the main action takes place lower down. I know that it\\'s very good for thinning mucus. Here\\'s the medical info...-------------------------------------------------------------------------------------------------------Marshmallow root tea has number of health benefits including digestive and respiratory disorders. This amazing herbal tea is made from roots of marshmallow herb.Demulcent and emollient properties of Marshmallow make it useful in inflammation or irritation of the alimentary canal, and of the urinary and respiratory organs.According to the \\'Physician\\'s Desk Reference for Herbal Medicines\\' it has anti-inflammatory, antioxidant, hypoglycemic and immune stimulating properties.Marshmallow root is not related to the marshmallows that you would buy at your local grocery store. The French made it into medicinal candy, which is the origin of modern marshmallows.Marshmallow root contains about 37% starch, 11% mucilage, 11%pectin, flavonoids, phenolic acids, sucrose, and asparagine. The root of Marshmallow has high mucilage content. When mixed in water, it forms a smooth gel, which is used for medical purposes.Health benefits of marshmallow tea:The tea is used to get relief from these health conditions:- Marshmallow is extremely useful in soothing inflammations in conditions such as bronchitis, pleurisy, even dry cough and other respiratory problems.- Detoxification- Laryngitis- Urinary Tract Problems- Digestive Upsets, Gastritis, Gastroenteritis: Marshmallow root tea has moderate laxative properties, enabling it to treat pain associated with constipation, as well as the discomfort that accompanies diverticulitis and irritable bowel syndrome. The mucilage in marshmallow root can promote bowel movements and loosen stools. It can help cure digestive system disorders such as ulcers and gastric inflammation which often lead to tetchy bowel syndrome and other symptoms.- It can also treat mouth, throat and intestinal tract irritations.- Other health benefits of marshmallow root tea include its ability to help soothe painful ulcers and treat heartburn. A lot of people also say that drinking marshmallow root tea can help stop vomiting overall and can help pass kidney stones much easier.- Urinary tract infection among women: Marshmallow root tea is helpful in healing and soothing mild cystitis cases.- If you have a dry cough sipping the tea will help control it.- In \"The New Holistic Herbal,\" Herbalist David Hoffmann says that marshmallow root works as an anti-inflammatory agent for both external and internal ailments. Internally, it helps inflammation in the GI tract, treating disorders such as inflammation of the mouth, gastritis and colitis.- Using as a laxative: Drink a strong decoction followed by two or three glasses of water to help the herb pass through the digestive tract quickly. You can also use the tea of marshmallow for an enema if the problem persists.How to make marshmallow root tea?Make a marshmallow root tea by adding 2 tsp. of dry root to a cup of boiling water, and let it steep for five minutes. Drink slowly as often as needed to achieve desired results. You may drink the tea three to five times every day.Leaves: (Infusion): An infusion prepared by boiling and then cooling the marshmallow leaves may be used to cure bronchial and urinary disorders.Root: (Decotion): For a strong tea of the root, make a decoction by adding one-fourth cup of chopped dry root to a medium pot of boiling water. Simmer for a minimum of 10 minutes, and then drain out the root. Drink throughout the day.Another way to prepare the decoction is to add 25 g of marshmallow root to one liter of water and then boil it down to about 750 ml. In certain cases, the decoction may require some dilution by adding water.Marshmallow root is a safe herb and can be used for extended periods of times without any harmful side effects. Marshmallow root can be found online and in various health food shops.Cautions:- Always ask your doctor if it is alright to drink this tea if you are taking any medications whatsoever. Fortunately, there are no side effects that come with it.- The health benefits of marshmallow root tea tend to appear faster in several individuals than in others.- Marshmallow root is a diuretic, which means it will cause your body to lose water. This side effect is actually part of the treatment, stimulating kidney function and flushing the bladder. Drink lots of water if using marshmallow root.- It helps lower stomach acid, which may make digestion more difficult. If you have hypochlorhydria or have had a gastric bypass operation, check with your doctor before using marshmallow root.'},\n",
       "              {'username': 'Deb_Jordan_61',\n",
       "               'entry': 'I use slippery elm for mucous build up. I first tried it when a friend who sings in a band told me about it. The mucous affected her singing voice and this is what she took. Hope this helps too.'}]})"
      ]
     },
     "execution_count": 9,
     "metadata": {},
     "output_type": "execute_result"
    }
   ],
   "source": [
    "plm.keyword_dict"
   ]
  },
  {
   "cell_type": "code",
   "execution_count": null,
   "metadata": {},
   "outputs": [],
   "source": []
  }
 ],
 "metadata": {
  "kernelspec": {
   "display_name": "Python 3",
   "language": "python",
   "name": "python3"
  },
  "language_info": {
   "codemirror_mode": {
    "name": "ipython",
    "version": 3
   },
   "file_extension": ".py",
   "mimetype": "text/x-python",
   "name": "python",
   "nbconvert_exporter": "python",
   "pygments_lexer": "ipython3",
   "version": "3.8.5"
  }
 },
 "nbformat": 4,
 "nbformat_minor": 4
}
